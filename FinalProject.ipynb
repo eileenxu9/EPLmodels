{
 "cells": [
  {
   "cell_type": "markdown",
   "metadata": {},
   "source": [
    "# Data Preprocessing"
   ]
  },
  {
   "cell_type": "code",
   "execution_count": 1,
   "metadata": {},
   "outputs": [],
   "source": [
    "import pandas as pd\n",
    "import numpy as np\n",
    "\n",
    "import matplotlib\n",
    "from matplotlib import pyplot as plt\n",
    "%matplotlib inline\n",
    "\n",
    "from sklearn.linear_model import LinearRegression\n",
    "from sklearn.model_selection import train_test_split\n",
    "from sklearn.preprocessing import StandardScaler\n",
    "from sklearn.decomposition import PCA\n",
    "from sklearn.metrics import mean_squared_error"
   ]
  },
  {
   "cell_type": "code",
   "execution_count": null,
   "metadata": {},
   "outputs": [],
   "source": [
    "# load the dataset\n",
    "df = pd.read_csv(\"epl_dataset.csv\")\n",
    "\n",
    "# remove goalkeepers\n",
    "df = df[df['Position'] != 'Goalkeeper']\n",
    "\n",
    "# fill missing values with 0\n",
    "df.fillna(0, inplace=True)\n",
    "\n",
    "# dummy variable encode the categorical columns\n",
    "df = pd.get_dummies(df, columns=['Position', 'Club', 'Nationality'], drop_first=True, dtype=int)\n",
    "\n",
    "# list of columns that contain percentages\n",
    "percentage_columns = ['Shooting accuracy %', 'Tackle success %', 'Cross accuracy %']\n",
    "\n",
    "# convert all percentage columns to decimal values (0 to 1)\n",
    "for column in percentage_columns:\n",
    "    df[column] = df[column].str.replace('%', '').astype(float) / 100\n",
    "\n",
    "# save the modified dataset\n",
    "df.to_csv(\"epl_data_processed.csv\", index=False)\n",
    "#"
   ]
  }
 ],
 "metadata": {
  "kernelspec": {
   "display_name": "Python 3",
   "language": "python",
   "name": "python3"
  },
  "language_info": {
   "codemirror_mode": {
    "name": "ipython",
    "version": 3
   },
   "file_extension": ".py",
   "mimetype": "text/x-python",
   "name": "python",
   "nbconvert_exporter": "python",
   "pygments_lexer": "ipython3",
   "version": "3.10.7"
  }
 },
 "nbformat": 4,
 "nbformat_minor": 2
}
